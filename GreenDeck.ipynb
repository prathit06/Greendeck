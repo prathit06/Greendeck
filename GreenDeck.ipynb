{
  "nbformat": 4,
  "nbformat_minor": 0,
  "metadata": {
    "colab": {
      "name": "GreenDeck.ipynb",
      "provenance": [],
      "collapsed_sections": []
    },
    "kernelspec": {
      "name": "python3",
      "display_name": "Python 3"
    }
  },
  "cells": [
    {
      "cell_type": "code",
      "metadata": {
        "id": "f7v1gDBJnnXK",
        "colab_type": "code",
        "colab": {}
      },
      "source": [
        "# Commit from WB"
      ],
      "execution_count": 0,
      "outputs": []
    },
    {
      "cell_type": "code",
      "metadata": {
        "id": "Ql-2dtiLqgNa",
        "colab_type": "code",
        "colab": {}
      },
      "source": [
        "from google.colab import drive\n",
        "drive.mount('/content/drive')"
      ],
      "execution_count": 0,
      "outputs": []
    },
    {
      "cell_type": "code",
      "metadata": {
        "id": "PZefCsWSoKkY",
        "colab_type": "code",
        "outputId": "25ea68db-7f79-4e23-fbdc-0ba23600f38b",
        "colab": {
          "base_uri": "https://localhost:8080/",
          "height": 34
        }
      },
      "source": [
        "cd /content/drive/My Drive/Colab Notebooks"
      ],
      "execution_count": 0,
      "outputs": [
        {
          "output_type": "stream",
          "text": [
            "/content/drive/My Drive/Colab Notebooks\n"
          ],
          "name": "stdout"
        }
      ]
    },
    {
      "cell_type": "code",
      "metadata": {
        "id": "sDchW8S_O_Q3",
        "colab_type": "code",
        "colab": {}
      },
      "source": [
        "import json\n",
        "import pandas as pd\n",
        "from pandas.io.json import json_normalize"
      ],
      "execution_count": 0,
      "outputs": []
    },
    {
      "cell_type": "code",
      "metadata": {
        "id": "oX_3o1bWG5WK",
        "colab_type": "code",
        "colab": {}
      },
      "source": [
        "import operator\n",
        "\n",
        "def get_truth(relate):\n",
        "    ops = {'>': operator.gt,\n",
        "           '<': operator.lt,\n",
        "           '>=': operator.ge,\n",
        "           '<=': operator.le,\n",
        "           '=': operator.eq}\n",
        "    return ops[relate]"
      ],
      "execution_count": 0,
      "outputs": []
    },
    {
      "cell_type": "code",
      "metadata": {
        "id": "kAjTDwKJRLwz",
        "colab_type": "code",
        "colab": {}
      },
      "source": [
        "MainData = []\n",
        "for line in open('netporterdata', 'r'):\n",
        "    MainData.append(json.loads(line))"
      ],
      "execution_count": 0,
      "outputs": []
    },
    {
      "cell_type": "code",
      "metadata": {
        "id": "8EGl-S2PRM2D",
        "colab_type": "code",
        "colab": {}
      },
      "source": [
        "f_df = pd.DataFrame(MainData)"
      ],
      "execution_count": 0,
      "outputs": []
    },
    {
      "cell_type": "markdown",
      "metadata": {
        "id": "Lb2Q8TmsyP8l",
        "colab_type": "text"
      },
      "source": [
        "#1"
      ]
    },
    {
      "cell_type": "code",
      "metadata": {
        "id": "JoRaofyeRRGz",
        "colab_type": "code",
        "colab": {}
      },
      "source": [
        "df_price=json_normalize(data=f_df['price'])\n",
        "df_1 = pd.concat([f_df['_id'],df_price], axis=1)"
      ],
      "execution_count": 0,
      "outputs": []
    },
    {
      "cell_type": "code",
      "metadata": {
        "id": "7mR0YlkVhjvX",
        "colab_type": "code",
        "colab": {}
      },
      "source": [
        "def make_discount(df,op,value):\n",
        "  df['discount'] = 100*(df['regular_price.value'] - df['offer_price.value'])/df['regular_price.value']\n",
        "  df_filtered = df[get_truth(op)(df.discount,value)]\n",
        "  return df_filtered"
      ],
      "execution_count": 0,
      "outputs": []
    },
    {
      "cell_type": "code",
      "metadata": {
        "id": "n2z7Vg7xhzsx",
        "colab_type": "code",
        "colab": {}
      },
      "source": [
        "discount_df = make_discount(df_1,'<',0.0)"
      ],
      "execution_count": 0,
      "outputs": []
    },
    {
      "cell_type": "markdown",
      "metadata": {
        "id": "hLainfuO73bx",
        "colab_type": "text"
      },
      "source": [
        "#2"
      ]
    },
    {
      "cell_type": "code",
      "metadata": {
        "id": "2ReVNkg6k8Oz",
        "colab_type": "code",
        "colab": {}
      },
      "source": [
        "df_brand=json_normalize(data=f_df['brand'])\n",
        "df_2 = pd.concat([f_df['_id'],df_price,df_brand], axis=1)"
      ],
      "execution_count": 0,
      "outputs": []
    },
    {
      "cell_type": "code",
      "metadata": {
        "id": "T0p4-IQ2DO8w",
        "colab_type": "code",
        "colab": {}
      },
      "source": [
        "df_2['discount'] = 100*(df_2['regular_price.value'] - df_2['offer_price.value'])/df_2['regular_price.value']"
      ],
      "execution_count": 0,
      "outputs": []
    },
    {
      "cell_type": "code",
      "metadata": {
        "id": "z15BCduI_TZB",
        "colab_type": "code",
        "colab": {}
      },
      "source": [
        "df_3 = df_2.groupby('name') \\\n",
        "       .agg({'_id':'size','discount':'mean'}) \\\n",
        "       .rename(columns={'_id':'count','discount':'avg_discount'}) \\\n",
        "       .reset_index()"
      ],
      "execution_count": 0,
      "outputs": []
    },
    {
      "cell_type": "code",
      "metadata": {
        "id": "EeHnw0G-FIXT",
        "colab_type": "code",
        "colab": {}
      },
      "source": [
        "def get_count_discount(df,brand):\n",
        "  t_count = df.loc[df.name == brand]['count'].tolist()[0]\n",
        "  df[df.name == brand]['count']\n",
        "  t_avg_discount = df.loc[df.name == brand]['avg_discount'].tolist()[0]\n",
        "  return t_count,t_avg_discount"
      ],
      "execution_count": 0,
      "outputs": []
    },
    {
      "cell_type": "code",
      "metadata": {
        "id": "MSE6iplIcEXO",
        "colab_type": "code",
        "colab": {}
      },
      "source": [
        "count,discount=get_count_discount(df_3,'gucci')"
      ],
      "execution_count": 0,
      "outputs": []
    },
    {
      "cell_type": "markdown",
      "metadata": {
        "id": "2XpHgCzofnqf",
        "colab_type": "text"
      },
      "source": [
        "#3"
      ]
    },
    {
      "cell_type": "code",
      "metadata": {
        "id": "sMv8XY6efpsE",
        "colab_type": "code",
        "colab": {}
      },
      "source": [
        "df_brand=json_normalize(data=f_df['brand'])\n",
        "df_price=json_normalize(data=f_df['price'])\n",
        "df_5 = pd.concat([f_df['_id'],df_price,df_brand], axis=1)"
      ],
      "execution_count": 0,
      "outputs": []
    },
    {
      "cell_type": "code",
      "metadata": {
        "id": "bIfU6c6_nMvn",
        "colab_type": "code",
        "colab": {}
      },
      "source": [
        "c_price=[]\n",
        "\n",
        "for i in range(f_df.shape[0]):\n",
        "  try:\n",
        "    c_price.append(f_df.similar_products[i]['website_results']['5da94f4e6d97010001f81d72']['knn_items'][0]['_source']['price']['basket_price']['value'])\n",
        "  except IndexError:\n",
        "    try:\n",
        "      c_price.append(f_df.similar_products[i]['website_results']['5d0cc7b68a66a100014acdb0']['knn_items'][0]['_source']['price']['basket_price']['value'])\n",
        "    except IndexError:\n",
        "      try:\n",
        "        c_price.append(f_df.similar_products[i]['website_results']['5da94e940ffeca000172b12a']['knn_items'][0]['_source']['price']['basket_price']['value'])\n",
        "      except IndexError:\n",
        "          try:\n",
        "            c_price.append(f_df.similar_products[i]['website_results']['5da94ef80ffeca000172b12c']['knn_items'][0]['_source']['price']['basket_price']['value'])\n",
        "          except IndexError:\n",
        "            c_price.append(f_df.similar_products[i]['website_results']['5da94f270ffeca000172b12e']['knn_items'][0]['_source']['price']['basket_price']['value'])\n",
        "\n",
        "df_5['c_price']=c_price"
      ],
      "execution_count": 0,
      "outputs": []
    },
    {
      "cell_type": "code",
      "metadata": {
        "id": "M4Q4C8qZvmfU",
        "colab_type": "code",
        "colab": {}
      },
      "source": [
        "def competition_id (df,brand):\n",
        "  if brand == \"\":\n",
        "    return df.loc[df['basket_price.value'] > df.c_price]\n",
        "  else:\n",
        "    df = df.loc[df['basket_price.value'] > df.c_price]\n",
        "    df = df.loc[df['name']==brand]\n",
        "    return df"
      ],
      "execution_count": 0,
      "outputs": []
    },
    {
      "cell_type": "code",
      "metadata": {
        "id": "BUPJGfBgwFfK",
        "colab_type": "code",
        "colab": {}
      },
      "source": [
        "df_3f=competition_id (df_5,\"balenciaga\")"
      ],
      "execution_count": 0,
      "outputs": []
    },
    {
      "cell_type": "code",
      "metadata": {
        "id": "19nl7bd33dhJ",
        "colab_type": "code",
        "colab": {}
      },
      "source": [
        "df_3f=competition_id (df_5,\"\")"
      ],
      "execution_count": 0,
      "outputs": []
    },
    {
      "cell_type": "markdown",
      "metadata": {
        "id": "9GVneNGfHvd9",
        "colab_type": "text"
      },
      "source": [
        "#4"
      ]
    },
    {
      "cell_type": "code",
      "metadata": {
        "id": "VL9ImZfUHymO",
        "colab_type": "code",
        "colab": {}
      },
      "source": [
        "df_brand=json_normalize(data=f_df['brand'])\n",
        "df_price=json_normalize(data=f_df['price'])\n",
        "df_7 = pd.concat([f_df['_id'],f_df['website_id'],df_price,df_brand], axis=1)"
      ],
      "execution_count": 0,
      "outputs": []
    },
    {
      "cell_type": "code",
      "metadata": {
        "id": "Ooi-XzI2__ti",
        "colab_type": "code",
        "colab": {}
      },
      "source": [
        "farfetch_price = []\n",
        "\n",
        "for i in range(f_df.shape[0]):\n",
        "  try:\n",
        "    farfetch_price.append(f_df.similar_products[i]['website_results']['5d0cc7b68a66a100014acdb0']['knn_items'][0]['_source']['price']['basket_price']['value'])\n",
        "  except:\n",
        "    farfetch_price.append(0.0)"
      ],
      "execution_count": 0,
      "outputs": []
    },
    {
      "cell_type": "code",
      "metadata": {
        "id": "6NqsByJQAJI6",
        "colab_type": "code",
        "colab": {}
      },
      "source": [
        "for i in range(len(farfetch_price)):\n",
        "  farfetch_price[i]=farfetch_price[i]+0.1*farfetch_price[i]\n",
        "\n",
        "df_7['farfetch_price']=farfetch_price\n",
        "df_7 = df_7.drop(df_7[df_7.farfetch_price == 0.0 ].index)\n",
        "df_7 = df_7.loc[df_7['basket_price.value'] > df_7.farfetch_price]"
      ],
      "execution_count": 0,
      "outputs": []
    },
    {
      "cell_type": "code",
      "metadata": {
        "id": "yMAd49I1MUHb",
        "colab_type": "code",
        "colab": {}
      },
      "source": [
        ""
      ],
      "execution_count": 0,
      "outputs": []
    }
  ]
}