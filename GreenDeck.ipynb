{
 "cells": [
  {
   "cell_type": "code",
   "execution_count": 1,
   "metadata": {
    "colab": {
     "base_uri": "https://localhost:8080/",
     "height": 122
    },
    "colab_type": "code",
    "id": "f7v1gDBJnnXK",
    "outputId": "d50badfe-61fe-4854-d96b-aad2fb538215"
   },
   "outputs": [
    {
     "name": "stdout",
     "output_type": "stream",
     "text": [
      "Go to this URL in a browser: https://accounts.google.com/o/oauth2/auth?client_id=947318989803-6bn6qk8qdgf4n4g3pfee6491hc0brc4i.apps.googleusercontent.com&redirect_uri=urn%3aietf%3awg%3aoauth%3a2.0%3aoob&response_type=code&scope=email%20https%3a%2f%2fwww.googleapis.com%2fauth%2fdocs.test%20https%3a%2f%2fwww.googleapis.com%2fauth%2fdrive%20https%3a%2f%2fwww.googleapis.com%2fauth%2fdrive.photos.readonly%20https%3a%2f%2fwww.googleapis.com%2fauth%2fpeopleapi.readonly\n",
      "\n",
      "Enter your authorization code:\n",
      "··········\n",
      "Mounted at /content/drive\n"
     ]
    }
   ],
   "source": [
    "from google.colab import drive\n",
    "drive.mount('/content/drive')"
   ]
  },
  {
   "cell_type": "code",
   "execution_count": 0,
   "metadata": {
    "colab": {},
    "colab_type": "code",
    "id": "sDchW8S_O_Q3"
   },
   "outputs": [],
   "source": [
    "import json\n",
    "import pandas as pd\n",
    "from pandas.io.json import json_normalize"
   ]
  },
  {
   "cell_type": "code",
   "execution_count": 0,
   "metadata": {
    "colab": {},
    "colab_type": "code",
    "id": "oX_3o1bWG5WK"
   },
   "outputs": [],
   "source": [
    "import operator\n",
    "\n",
    "def get_truth(relate):\n",
    "    ops = {'>': operator.gt,\n",
    "           '<': operator.lt,\n",
    "           '>=': operator.ge,\n",
    "           '<=': operator.le,\n",
    "           '=': operator.eq}\n",
    "    return ops[relate]"
   ]
  },
  {
   "cell_type": "code",
   "execution_count": 0,
   "metadata": {
    "colab": {},
    "colab_type": "code",
    "id": "kAjTDwKJRLwz"
   },
   "outputs": [],
   "source": [
    "MainData = []\n",
    "for line in open('netporterdata', 'r'):\n",
    "    MainData.append(json.loads(line))"
   ]
  },
  {
   "cell_type": "code",
   "execution_count": 0,
   "metadata": {
    "colab": {},
    "colab_type": "code",
    "id": "8EGl-S2PRM2D"
   },
   "outputs": [],
   "source": [
    "f_df = pd.DataFrame(MainData)"
   ]
  },
  {
   "cell_type": "markdown",
   "metadata": {
    "colab_type": "text",
    "id": "Lb2Q8TmsyP8l"
   },
   "source": [
    "#1"
   ]
  },
  {
   "cell_type": "code",
   "execution_count": 0,
   "metadata": {
    "colab": {},
    "colab_type": "code",
    "id": "JoRaofyeRRGz"
   },
   "outputs": [],
   "source": [
    "df_price=json_normalize(data=f_df['price'])\n",
    "df_1 = pd.concat([f_df['_id'],df_price], axis=1)"
   ]
  },
  {
   "cell_type": "code",
   "execution_count": 0,
   "metadata": {
    "colab": {},
    "colab_type": "code",
    "id": "7mR0YlkVhjvX"
   },
   "outputs": [],
   "source": [
    "def make_discount(df,op,value):\n",
    "  df['discount'] = 100*(df['regular_price.value'] - df['offer_price.value'])/df['regular_price.value']\n",
    "  df_filtered = df[get_truth(op)(df.discount,value)]\n",
    "  return df_filtered"
   ]
  },
  {
   "cell_type": "code",
   "execution_count": 0,
   "metadata": {
    "colab": {},
    "colab_type": "code",
    "id": "n2z7Vg7xhzsx"
   },
   "outputs": [],
   "source": [
    "discount_df = make_discount(df_1,'<',0.0)"
   ]
  },
  {
   "cell_type": "markdown",
   "metadata": {
    "colab_type": "text",
    "id": "hLainfuO73bx"
   },
   "source": [
    "#2"
   ]
  },
  {
   "cell_type": "code",
   "execution_count": 0,
   "metadata": {
    "colab": {},
    "colab_type": "code",
    "id": "2ReVNkg6k8Oz"
   },
   "outputs": [],
   "source": [
    "df_brand=json_normalize(data=f_df['brand'])\n",
    "df_2 = pd.concat([f_df['_id'],df_price,df_brand], axis=1)"
   ]
  },
  {
   "cell_type": "code",
   "execution_count": 0,
   "metadata": {
    "colab": {},
    "colab_type": "code",
    "id": "T0p4-IQ2DO8w"
   },
   "outputs": [],
   "source": [
    "df_2['discount'] = 100*(df_2['regular_price.value'] - df_2['offer_price.value'])/df_2['regular_price.value']"
   ]
  },
  {
   "cell_type": "code",
   "execution_count": 0,
   "metadata": {
    "colab": {},
    "colab_type": "code",
    "id": "z15BCduI_TZB"
   },
   "outputs": [],
   "source": [
    "df_3 = df_2.groupby('name') \\\n",
    "       .agg({'_id':'size','discount':'mean'}) \\\n",
    "       .rename(columns={'_id':'count','discount':'avg_discount'}) \\\n",
    "       .reset_index()"
   ]
  },
  {
   "cell_type": "code",
   "execution_count": 0,
   "metadata": {
    "colab": {},
    "colab_type": "code",
    "id": "EeHnw0G-FIXT"
   },
   "outputs": [],
   "source": [
    "def get_count_discount(df,brand):\n",
    "  t_count = df.loc[df.name == brand]['count'].tolist()[0]\n",
    "  df[df.name == brand]['count']\n",
    "  t_avg_discount = df.loc[df.name == brand]['avg_discount'].tolist()[0]\n",
    "  return t_count,t_avg_discount"
   ]
  },
  {
   "cell_type": "code",
   "execution_count": 0,
   "metadata": {
    "colab": {},
    "colab_type": "code",
    "id": "MSE6iplIcEXO"
   },
   "outputs": [],
   "source": [
    "count,discount=get_count_discount(df_3,'gucci')"
   ]
  },
  {
   "cell_type": "markdown",
   "metadata": {
    "colab_type": "text",
    "id": "2XpHgCzofnqf"
   },
   "source": [
    "#3"
   ]
  },
  {
   "cell_type": "code",
   "execution_count": 0,
   "metadata": {
    "colab": {},
    "colab_type": "code",
    "id": "sMv8XY6efpsE"
   },
   "outputs": [],
   "source": [
    "df_brand=json_normalize(data=f_df['brand'])\n",
    "df_price=json_normalize(data=f_df['price'])\n",
    "df_5 = pd.concat([f_df['_id'],df_price,df_brand], axis=1)"
   ]
  },
  {
   "cell_type": "code",
   "execution_count": 0,
   "metadata": {
    "colab": {},
    "colab_type": "code",
    "id": "bIfU6c6_nMvn"
   },
   "outputs": [],
   "source": [
    "c_price=[]\n",
    "\n",
    "for i in range(f_df.shape[0]):\n",
    "  try:\n",
    "    c_price.append(f_df.similar_products[i]['website_results']['5da94f4e6d97010001f81d72']['knn_items'][0]['_source']['price']['basket_price']['value'])\n",
    "  except IndexError:\n",
    "    try:\n",
    "      c_price.append(f_df.similar_products[i]['website_results']['5d0cc7b68a66a100014acdb0']['knn_items'][0]['_source']['price']['basket_price']['value'])\n",
    "    except IndexError:\n",
    "      try:\n",
    "        c_price.append(f_df.similar_products[i]['website_results']['5da94e940ffeca000172b12a']['knn_items'][0]['_source']['price']['basket_price']['value'])\n",
    "      except IndexError:\n",
    "          try:\n",
    "            c_price.append(f_df.similar_products[i]['website_results']['5da94ef80ffeca000172b12c']['knn_items'][0]['_source']['price']['basket_price']['value'])\n",
    "          except IndexError:\n",
    "            c_price.append(f_df.similar_products[i]['website_results']['5da94f270ffeca000172b12e']['knn_items'][0]['_source']['price']['basket_price']['value'])\n",
    "\n",
    "df_5['c_price']=c_price"
   ]
  },
  {
   "cell_type": "code",
   "execution_count": 0,
   "metadata": {
    "colab": {},
    "colab_type": "code",
    "id": "M4Q4C8qZvmfU"
   },
   "outputs": [],
   "source": [
    "def competition_id (df,brand):\n",
    "  if brand == \"\":\n",
    "    return df.loc[df['basket_price.value'] > df.c_price]\n",
    "  else:\n",
    "    df = df.loc[df['basket_price.value'] > df.c_price]\n",
    "    df = df.loc[df['name']==brand]\n",
    "    return df"
   ]
  },
  {
   "cell_type": "code",
   "execution_count": 0,
   "metadata": {
    "colab": {},
    "colab_type": "code",
    "id": "BUPJGfBgwFfK"
   },
   "outputs": [],
   "source": [
    "df_3f=competition_id (df_5,\"balenciaga\")"
   ]
  },
  {
   "cell_type": "code",
   "execution_count": 0,
   "metadata": {
    "colab": {},
    "colab_type": "code",
    "id": "19nl7bd33dhJ"
   },
   "outputs": [],
   "source": [
    "df_3f=competition_id (df_5,\"\")"
   ]
  },
  {
   "cell_type": "markdown",
   "metadata": {
    "colab_type": "text",
    "id": "9GVneNGfHvd9"
   },
   "source": [
    "#4"
   ]
  },
  {
   "cell_type": "code",
   "execution_count": 0,
   "metadata": {
    "colab": {},
    "colab_type": "code",
    "id": "VL9ImZfUHymO"
   },
   "outputs": [],
   "source": [
    "df_brand=json_normalize(data=f_df['brand'])\n",
    "df_price=json_normalize(data=f_df['price'])\n",
    "df_7 = pd.concat([f_df['_id'],f_df['website_id'],df_price,df_brand], axis=1)"
   ]
  },
  {
   "cell_type": "code",
   "execution_count": 0,
   "metadata": {
    "colab": {},
    "colab_type": "code",
    "id": "Ooi-XzI2__ti"
   },
   "outputs": [],
   "source": [
    "farfetch_price = []\n",
    "\n",
    "for i in range(f_df.shape[0]):\n",
    "  try:\n",
    "    farfetch_price.append(f_df.similar_products[i]['website_results']['5d0cc7b68a66a100014acdb0']['knn_items'][0]['_source']['price']['basket_price']['value'])\n",
    "  except:\n",
    "    farfetch_price.append(0.0)"
   ]
  },
  {
   "cell_type": "code",
   "execution_count": 0,
   "metadata": {
    "colab": {},
    "colab_type": "code",
    "id": "6NqsByJQAJI6"
   },
   "outputs": [],
   "source": [
    "for i in range(len(farfetch_price)):\n",
    "  farfetch_price[i]=farfetch_price[i]+0.1*farfetch_price[i]\n",
    "\n",
    "df_7['farfetch_price']=farfetch_price\n",
    "df_7 = df_7.drop(df_7[df_7.farfetch_price == 0.0 ].index)\n",
    "df_7 = df_7.loc[df_7['basket_price.value'] > df_7.farfetch_price]"
   ]
  },
  {
   "cell_type": "code",
   "execution_count": 0,
   "metadata": {
    "colab": {},
    "colab_type": "code",
    "id": "yMAd49I1MUHb"
   },
   "outputs": [],
   "source": []
  }
 ],
 "metadata": {
  "colab": {
   "collapsed_sections": [],
   "name": "GreenDeck.ipynb",
   "provenance": []
  },
  "kernelspec": {
   "display_name": "Python 3",
   "language": "python",
   "name": "python3"
  },
  "language_info": {
   "codemirror_mode": {
    "name": "ipython",
    "version": 3
   },
   "file_extension": ".py",
   "mimetype": "text/x-python",
   "name": "python",
   "nbconvert_exporter": "python",
   "pygments_lexer": "ipython3",
   "version": "3.7.6"
  }
 },
 "nbformat": 4,
 "nbformat_minor": 1
}
